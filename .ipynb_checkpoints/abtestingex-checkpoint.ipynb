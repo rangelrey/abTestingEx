{
 "cells": [
  {
   "cell_type": "code",
   "execution_count": 2,
   "metadata": {},
   "outputs": [],
   "source": [
    "import scipy.stats as scs\n",
    "import pandas as pd\n",
    "from matplotlib import pyplot as plt\n",
    "plt.style.use('ggplot')\n",
    "import numpy as np\n",
    "import seaborn as sns"
   ]
  },
  {
   "cell_type": "code",
   "execution_count": 3,
   "metadata": {},
   "outputs": [],
   "source": [
    "\n",
    "#returns a dataframe with fake CTR data\n",
    "#N_A & N_B size of the two groups\n",
    "#p_A & p_B converstion rate of control group and experiment group respectively\n",
    "def generate_data(N_A, N_B, p_A, p_B, days=None, control_label='A',\n",
    "                  test_label='B'):\n",
    "    \n",
    "     # initiate empty container\n",
    "    data = []\n",
    "\n",
    "    # total amount of rows in the data\n",
    "    N = N_A + N_B\n",
    "\n",
    "    # distribute events based on proportion of group size\n",
    "    group_bern = scs.bernoulli(N_A / (N_A + N_B))\n",
    "\n",
    "    # initiate bernoulli distributions from which to randomly sample\n",
    "    A_bern = scs.bernoulli(p_A)\n",
    "    B_bern = scs.bernoulli(p_B)\n",
    "\n",
    "    for individual in range(N):\n",
    "        # initite empty row\n",
    "        row = {}\n",
    "        # for 'ts' column\n",
    "        if days is not None:\n",
    "            if type(days) == int:\n",
    "                row['ts'] = individual // (N // days)\n",
    "            else:\n",
    "                raise ValueError(\"Provide an integer for the days parameter.\")\n",
    "        # assign group based on 50/50 probability\n",
    "        row['group'] = group_bern.rvs()\n",
    "\n",
    "        if row['group'] == 0:\n",
    "            # assign conversion based on provided parameters\n",
    "            row['converted'] = A_bern.rvs()\n",
    "        else:\n",
    "            row['converted'] = B_bern.rvs()\n",
    "        # collect row into data container\n",
    "        data.append(row)\n",
    "\n",
    "    # convert data into pandas dataframe\n",
    "    df = pd.DataFrame(data)\n",
    "\n",
    "    # transform group labels of 0s and 1s to user-defined group labels\n",
    "    df['group'] = df['group'].apply(\n",
    "        lambda x: control_label if x == 0 else test_label)\n",
    "\n",
    "    return df"
   ]
  },
  {
   "cell_type": "code",
   "execution_count": 4,
   "metadata": {},
   "outputs": [],
   "source": [
    "\n",
    "\n",
    "\n",
    "#What is your practical significance limit ? (desired lift), the change in your metric\n",
    "#whose signficant result would make you apply/launch the experiment \n",
    "d_hat = 0.02\n",
    "\n",
    "#converstion rate of group A\n",
    "p_A = 0.10\n",
    "p_B = 0.12\n",
    "#conversion rate of group B\n",
    "\n",
    "\n",
    "#What is the size of your test ? being N the number of individuals in your sample\n",
    "N_A = 1000\n",
    "N_B = 1000"
   ]
  },
  {
   "cell_type": "code",
   "execution_count": 5,
   "metadata": {},
   "outputs": [
    {
     "data": {
      "text/html": [
       "<div>\n",
       "<style scoped>\n",
       "    .dataframe tbody tr th:only-of-type {\n",
       "        vertical-align: middle;\n",
       "    }\n",
       "\n",
       "    .dataframe tbody tr th {\n",
       "        vertical-align: top;\n",
       "    }\n",
       "\n",
       "    .dataframe thead th {\n",
       "        text-align: right;\n",
       "    }\n",
       "</style>\n",
       "<table border=\"1\" class=\"dataframe\">\n",
       "  <thead>\n",
       "    <tr style=\"text-align: right;\">\n",
       "      <th></th>\n",
       "      <th>converted</th>\n",
       "      <th>total</th>\n",
       "      <th>CR</th>\n",
       "    </tr>\n",
       "    <tr>\n",
       "      <th>group</th>\n",
       "      <th></th>\n",
       "      <th></th>\n",
       "      <th></th>\n",
       "    </tr>\n",
       "  </thead>\n",
       "  <tbody>\n",
       "    <tr>\n",
       "      <th>A</th>\n",
       "      <td>91</td>\n",
       "      <td>964</td>\n",
       "      <td>0.094398</td>\n",
       "    </tr>\n",
       "    <tr>\n",
       "      <th>B</th>\n",
       "      <td>111</td>\n",
       "      <td>1036</td>\n",
       "      <td>0.107143</td>\n",
       "    </tr>\n",
       "  </tbody>\n",
       "</table>\n",
       "</div>"
      ],
      "text/plain": [
       "       converted  total        CR\n",
       "group                            \n",
       "A             91    964  0.094398\n",
       "B            111   1036  0.107143"
      ]
     },
     "metadata": {},
     "output_type": "display_data"
    }
   ],
   "source": [
    "#create random data, being 1 --> user converted and 0 user did not convert\n",
    "ab_data = generate_data(N_A, N_B, p_A, p_B)\n",
    "\n",
    "#Summarize data, which is the conversion rate for both groups?\n",
    "ab_data_summary = ab_data.groupby(\"group\").sum()\n",
    "\n",
    "ab_data_summary[\"total\"] = ab_data.groupby(\"group\").count()[\"converted\"]\n",
    "\n",
    "ab_data_summary[\"CR\"]= ab_data_summary[\"converted\"]/ab_data_summary[\"total\"]\n",
    "\n",
    "display(ab_data_summary)"
   ]
  },
  {
   "cell_type": "code",
   "execution_count": 6,
   "metadata": {},
   "outputs": [],
   "source": [
    "#remember this \"scs.binom.pmf(k=2, n=10, p=0.5)\" is read as:\n",
    "#probability of 2 heads after 10 throws with a probability of head = 0.5\n",
    "\n",
    "#remember this \"binom.cdf(k=5, n=10, p=0.5)\" is read as:\n",
    "#probability of 5 heads or less after 10 throws with a probability of head = 0.5\n"
   ]
  },
  {
   "cell_type": "code",
   "execution_count": 7,
   "metadata": {},
   "outputs": [],
   "source": [
    "#extract data from dataframe\n",
    "A_group = ab_data[ab_data['group'] == 'A']\n",
    "B_group = ab_data[ab_data['group'] == 'B']\n",
    "A_converted, B_converted = A_group['converted'].sum(), B_group['converted'].sum()\n",
    "\n",
    "A_total, B_total = len(A_group), len(B_group)\n",
    "\n",
    "\n",
    "p_A, p_B = A_converted / A_total, B_converted / B_total"
   ]
  },
  {
   "cell_type": "code",
   "execution_count": 8,
   "metadata": {},
   "outputs": [
    {
     "data": {
      "text/plain": [
       "Text(0, 0.5, 'probability')"
      ]
     },
     "execution_count": 8,
     "metadata": {},
     "output_type": "execute_result"
    },
    {
     "data": {
      "image/png": "[encoded data removed]",
      "text/plain": [
       "<Figure size 864x432 with 1 Axes>"
      ]
     },
     "metadata": {},
     "output_type": "display_data"
    }
   ],
   "source": [
    "#Plot the test and control group's probability mass functions\n",
    "\n",
    "fig, ax = plt.subplots(figsize=(12,6))\n",
    "#np.linspace(1,4,4) returns a np array from 1 until 4 divided into 4. --> 1,2,3,4\n",
    "xA = np.linspace(A_converted-49, A_converted+50, 100)\n",
    "#Return a numpy array of the probabilities given a sample size of A_total\n",
    "#and a probability of p_A, for a range of values xA\n",
    "#example: what is the probability of \"1\" given a probaility p_A and the total of A_total ?\n",
    "yA = scs.binom(A_total, p_A).pmf(xA)\n",
    "ax.scatter(xA, yA, s=10)\n",
    "xB = np.linspace(B_converted-49, B_converted+50, 100)\n",
    "yB = scs.binom(B_total, p_B).pmf(xB)\n",
    "ax.scatter(xB, yB, s=10)\n",
    "plt.xlabel('converted')\n",
    "plt.ylabel('probability')"
   ]
  },
  {
   "attachments": {
    "image.png": {
     "image/png": "[encoded data removed]"
    }
   },
   "cell_type": "markdown",
   "metadata": {},
   "source": [
    "This graph helps us to see the probability mass distribution of our data. \n",
    "For example the probability that there are 100 conversions in the red group is similar to the blue group.\n",
    "\n",
    "But we cannot extract any conclusions with this graph\n",
    "\n",
    "Since we have different sample sizes we will have to normalize the data in order to compare the two groups. \n",
    "We can use the normal only if the sample size is large. Since the binomial distribution approximates a normal when \"n\" is large\n",
    "![image.png](attachment:image.png)\n",
    "\n",
    "In this case, since we do not know the standard deviation of the population, we use the standard deviation of the sample divided by the square root of n as an estimation"
   ]
  },
  {
   "cell_type": "code",
   "execution_count": 9,
   "metadata": {},
   "outputs": [],
   "source": [
    "# Calculation of the standard error of the mean\n",
    "#the fomula comprises the standard deviation of the sample divided by the sqrt(n)\n",
    "#remember, since the population standard deviation is rarely known, we use the standard deviation\n",
    "#of the sample to estimate the standard error of the mean\n",
    "SE_A = scs.bernoulli.std(p_A) / np.sqrt(A_total)\n",
    "SE_B = scs.bernoulli.std(p_B) / np.sqrt(B_total)"
   ]
  },
  {
   "cell_type": "code",
   "execution_count": 10,
   "metadata": {
    "scrolled": true
   },
   "outputs": [
    {
     "data": {
      "text/plain": [
       "Text(0, 0.5, 'PDF')"
      ]
     },
     "execution_count": 10,
     "metadata": {},
     "output_type": "execute_result"
    },
    {
     "data": {
      "image/png": "[encoded data removed]",
      "text/plain": [
       "<Figure size 864x432 with 1 Axes>"
      ]
     },
     "metadata": {},
     "output_type": "display_data"
    }
   ],
   "source": [
    "\n",
    "\n",
    "fig, ax = plt.subplots(figsize=(12,6))\n",
    "xA = np.linspace(0, .2, 1000)\n",
    "yA = scs.norm(p_A, SE_A).pdf(xA)\n",
    "ax.plot(xA, yA)\n",
    "ax.axvline(x=p_A, c='red', alpha=0.5, linestyle='--')\n",
    "\n",
    "xB = np.linspace(0, .2, 1000)\n",
    "yB = scs.norm(p_B, SE_B).pdf(xB)\n",
    "ax.plot(xB, yB)\n",
    "ax.axvline(x=p_B, c='blue', alpha=0.5, linestyle='--')\n",
    "\n",
    "plt.xlabel('Converted Proportion')\n",
    "plt.ylabel('PDF')"
   ]
  },
  {
   "cell_type": "markdown",
   "metadata": {},
   "source": [
    "The distance between the two vertical lines (which represent the CR, in other words the p), is the mean difference between the control and test groups"
   ]
  },
  {
   "attachments": {},
   "cell_type": "markdown",
   "metadata": {},
   "source": [
    "## Hypothesis Testing\n",
    "\n",
    "Now we wanto test if there is any significant differerence between the two probabilities. \n",
    "For that we want to plot the distribution of the mean difference.\n",
    "\n",
    "H0 --> the means are the same  p_A - p_B = 0\n",
    "H1 --> the means are different p_A - p_B != 0\n",
    "\n",
    "We will assume we can use a normal distribution for that"
   ]
  },
  {
   "cell_type": "code",
   "execution_count": null,
   "metadata": {},
   "outputs": [],
   "source": []
  }
 ],
 "metadata": {
  "kernelspec": {
   "display_name": "Python 3",
   "language": "python",
   "name": "python3"
  },
  "language_info": {
   "codemirror_mode": {
    "name": "ipython",
    "version": 3
   },
   "file_extension": ".py",
   "mimetype": "text/x-python",
   "name": "python",
   "nbconvert_exporter": "python",
   "pygments_lexer": "ipython3",
   "version": "3.6.8"
  }
 },
 "nbformat": 4,
 "nbformat_minor": 4
}
